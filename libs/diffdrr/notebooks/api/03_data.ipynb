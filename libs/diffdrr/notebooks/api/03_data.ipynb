{
 "cells": [
  {
   "cell_type": "raw",
   "id": "bb4bed05",
   "metadata": {},
   "source": [
    "---\n",
    "title: data\n",
    "description: Load DICOM datasets as numpy arrays with voxel dimensions\n",
    "output-file: data.html\n",
    "---"
   ]
  },
  {
   "cell_type": "code",
   "execution_count": null,
   "id": "e9649072",
   "metadata": {},
   "outputs": [],
   "source": [
    "#| default_exp data"
   ]
  },
  {
   "cell_type": "code",
   "execution_count": null,
   "id": "2f87221e",
   "metadata": {},
   "outputs": [],
   "source": [
    "#| hide\n",
    "from nbdev.showdoc import *"
   ]
  },
  {
   "cell_type": "code",
   "execution_count": null,
   "id": "cec0581f",
   "metadata": {},
   "outputs": [],
   "source": [
    "#| export\n",
    "from __future__ import annotations\n",
    "\n",
    "from pathlib import Path\n",
    "\n",
    "import numpy as np\n",
    "from pydicom import dcmread"
   ]
  },
  {
   "cell_type": "code",
   "execution_count": null,
   "id": "ea4d61ea",
   "metadata": {},
   "outputs": [],
   "source": [
    "#| export \n",
    "def read_dicom(dcmdir: Path | str):\n",
    "    \"\"\"Read a directory of DICOM files and return the volume and voxel spacings.\"\"\"\n",
    "\n",
    "    dcmfiles = Path(dcmdir).glob(\"*.dcm\")\n",
    "    dcmfiles = list(dcmfiles)\n",
    "    dcmfiles.sort()\n",
    "    ds = dcmread(dcmfiles[0])\n",
    "\n",
    "    nx, ny = ds.pixel_array.shape\n",
    "    nz = len(dcmfiles)\n",
    "    del_x, del_y = ds.PixelSpacing\n",
    "    del_x, del_y = float(del_x), float(del_y)\n",
    "    volume = np.zeros((nx, ny, nz)).astype(np.float32)\n",
    "\n",
    "    del_zs = []\n",
    "    for idx, dcm in enumerate(dcmfiles):\n",
    "        ds = dcmread(dcm)\n",
    "        volume[:, :, idx] = ds.pixel_array\n",
    "        del_zs.append(ds.ImagePositionPatient[2])\n",
    "\n",
    "    del_zs = np.diff(del_zs)\n",
    "    del_z = float(np.abs(np.unique(del_zs)[0]))\n",
    "    spacing = [del_x, del_y, del_z]\n",
    "\n",
    "    return volume, spacing"
   ]
  },
  {
   "cell_type": "code",
   "execution_count": null,
   "id": "126d05d3",
   "metadata": {},
   "outputs": [],
   "source": [
    "#| export\n",
    "def load_example_ct():\n",
    "    \"\"\"Load an example chest CT for demonstration purposes.\"\"\"\n",
    "    currdir = Path(__file__).resolve().parent\n",
    "    dcmdir = currdir / \"data/cxr\"\n",
    "    return read_dicom(dcmdir)"
   ]
  },
  {
   "cell_type": "code",
   "execution_count": null,
   "id": "e1da1619",
   "metadata": {},
   "outputs": [],
   "source": [
    "#| hide\n",
    "import nbdev; nbdev.nbdev_export()"
   ]
  },
  {
   "cell_type": "code",
   "execution_count": null,
   "id": "f50cec79",
   "metadata": {},
   "outputs": [],
   "source": []
  }
 ],
 "metadata": {
  "kernelspec": {
   "display_name": "python3",
   "language": "python",
   "name": "python3"
  }
 },
 "nbformat": 4,
 "nbformat_minor": 5
}
